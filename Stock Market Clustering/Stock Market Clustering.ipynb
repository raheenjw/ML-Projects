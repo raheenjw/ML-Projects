{
 "cells": [
  {
   "cell_type": "markdown",
   "metadata": {},
   "source": [
    "### Introduction"
   ]
  },
  {
   "cell_type": "markdown",
   "metadata": {},
   "source": [
    "In this project we are going to train a k-means clustering algorithm to group companies based on their stock market movements over a 2-year period.\n",
    "The goal of the project will be to find similarities amongst companies that we might otherwise not be able to detect. To do this, the k-means clustering algorithm will produce labels that assign each company to different clusters.\n",
    "\n",
    "We will also perform *principle component analysis* for dimensionality reduction."
   ]
  },
  {
   "cell_type": "markdown",
   "metadata": {},
   "source": [
    "### Data"
   ]
  },
  {
   "cell_type": "markdown",
   "metadata": {},
   "source": [
    "The data used here is of 24 major companies.The data itself has been collected from yahoo finance using data reader.\n",
    "\n",
    "**pandas_datareader** extracts data from various internet sources into a DataFrame. Currently, the following sources are supported:\n",
    "- Yahoo! Finance\n",
    "- Google Finance\n",
    "- World Bank\n",
    "- Google Analytics\n",
    "and few others"
   ]
  },
  {
   "cell_type": "markdown",
   "metadata": {},
   "source": [
    "##### Some of the parameters related to the data are:\n",
    "\n",
    "- **High** :  Highest price during the day.\n",
    "- **Low** : Lowest price during the day.\n",
    "- **Open**: Opening price of the day.\n",
    "- **Close**: Closing price of the day.\n",
    "- **Volume**: Total number of shares of stock traded during the day.\n",
    "- **Adj Close**: The closing price is amended to account for any corporate actions to give the ‘Adjusted closing’ price."
   ]
  },
  {
   "cell_type": "code",
   "execution_count": 1,
   "metadata": {},
   "outputs": [],
   "source": [
    "#pip install pandas-datareader"
   ]
  },
  {
   "cell_type": "code",
   "execution_count": 2,
   "metadata": {},
   "outputs": [],
   "source": [
    "#importing required libraries\n",
    "\n",
    "import pandas as pd\n",
    "import numpy as np\n",
    "import matplotlib.pyplot as plt\n",
    "from pandas_datareader import data\n",
    "import datetime"
   ]
  },
  {
   "cell_type": "code",
   "execution_count": 3,
   "metadata": {},
   "outputs": [],
   "source": [
    "# the dictionary keys are the names of the companies and values are the stock codes. \n",
    "companies_dict = {\n",
    "'Amazon': 'AMZN',\n",
    "'Apple': 'AAPL',\n",
    "'Walgreen': 'WBA',\n",
    "'Northrop Grumman': 'NOC',\n",
    "'Boeing': 'BA',\n",
    "'Lockheed Martin': 'LMT',\n",
    "'McDonalds': 'MCD',\n",
    "'Intel': 'INTC', \n",
    "'IBM': 'IBM',\n",
    "'Texas Instruments': 'TXN',\n",
    "'MasterCard': 'MA',\n",
    "'Microsoft': 'MSFT',\n",
    "'General Electrics': 'GE',\n",
    "'American Express': 'AXP',\n",
    "'Pepsi': 'PEP',\n",
    "'Coca Cola': 'KO',\n",
    "'Johnson & Johnson': 'JNJ',\n",
    "'Toyota': 'TM',\n",
    "'Honda': 'HMC',\n",
    "'Exxon': 'XOM',\n",
    "'Chevron': 'CVX',\n",
    "'Valero Energy': 'VLO',\n",
    "'Ford': 'F',\n",
    "'Bank of America': 'BAC'}"
   ]
  },
  {
   "cell_type": "code",
   "execution_count": 4,
   "metadata": {},
   "outputs": [
    {
     "name": "stdout",
     "output_type": "stream",
     "text": [
      "[('Apple', 'AAPL'), ('Amazon', 'AMZN'), ('American Express', 'AXP'), ('Boeing', 'BA'), ('Bank of America', 'BAC'), ('Chevron', 'CVX'), ('Ford', 'F'), ('General Electrics', 'GE'), ('Honda', 'HMC'), ('IBM', 'IBM'), ('Intel', 'INTC'), ('Johnson & Johnson', 'JNJ'), ('Coca Cola', 'KO'), ('Lockheed Martin', 'LMT'), ('MasterCard', 'MA'), ('McDonalds', 'MCD'), ('Microsoft', 'MSFT'), ('Northrop Grumman', 'NOC'), ('Pepsi', 'PEP'), ('Toyota', 'TM'), ('Texas Instruments', 'TXN'), ('Valero Energy', 'VLO'), ('Walgreen', 'WBA'), ('Exxon', 'XOM')]\n"
     ]
    }
   ],
   "source": [
    "companies = sorted(companies_dict.items(), key=lambda x: x[1])\n",
    "print(companies)\n"
   ]
  },
  {
   "cell_type": "code",
   "execution_count": 5,
   "metadata": {},
   "outputs": [],
   "source": [
    "# In this project we will get the stock data from yahoo.\n",
    "data_source = 'yahoo'\n",
    "\n",
    "# Define the start and end dates that we want to see\n",
    "start_date = '2017-01-01'\n",
    "end_date = '2019-12-31'\n",
    "\n",
    "# Use pandas_reader.data.DataReader to load the desired data.\n",
    "stock_data = data.DataReader(list(companies_dict.values()), data_source, start_date, end_date)\n"
   ]
  },
  {
   "cell_type": "code",
   "execution_count": 6,
   "metadata": {},
   "outputs": [
    {
     "data": {
      "text/html": [
       "<div>\n",
       "<style scoped>\n",
       "    .dataframe tbody tr th:only-of-type {\n",
       "        vertical-align: middle;\n",
       "    }\n",
       "\n",
       "    .dataframe tbody tr th {\n",
       "        vertical-align: top;\n",
       "    }\n",
       "\n",
       "    .dataframe thead tr th {\n",
       "        text-align: left;\n",
       "    }\n",
       "\n",
       "    .dataframe thead tr:last-of-type th {\n",
       "        text-align: right;\n",
       "    }\n",
       "</style>\n",
       "<table border=\"1\" class=\"dataframe\">\n",
       "  <thead>\n",
       "    <tr>\n",
       "      <th>Attributes</th>\n",
       "      <th colspan=\"10\" halign=\"left\">Adj Close</th>\n",
       "      <th>...</th>\n",
       "      <th colspan=\"10\" halign=\"left\">Volume</th>\n",
       "    </tr>\n",
       "    <tr>\n",
       "      <th>Symbols</th>\n",
       "      <th>AMZN</th>\n",
       "      <th>AAPL</th>\n",
       "      <th>WBA</th>\n",
       "      <th>NOC</th>\n",
       "      <th>BA</th>\n",
       "      <th>LMT</th>\n",
       "      <th>MCD</th>\n",
       "      <th>INTC</th>\n",
       "      <th>IBM</th>\n",
       "      <th>TXN</th>\n",
       "      <th>...</th>\n",
       "      <th>PEP</th>\n",
       "      <th>KO</th>\n",
       "      <th>JNJ</th>\n",
       "      <th>TM</th>\n",
       "      <th>HMC</th>\n",
       "      <th>XOM</th>\n",
       "      <th>CVX</th>\n",
       "      <th>VLO</th>\n",
       "      <th>F</th>\n",
       "      <th>BAC</th>\n",
       "    </tr>\n",
       "    <tr>\n",
       "      <th>Date</th>\n",
       "      <th></th>\n",
       "      <th></th>\n",
       "      <th></th>\n",
       "      <th></th>\n",
       "      <th></th>\n",
       "      <th></th>\n",
       "      <th></th>\n",
       "      <th></th>\n",
       "      <th></th>\n",
       "      <th></th>\n",
       "      <th></th>\n",
       "      <th></th>\n",
       "      <th></th>\n",
       "      <th></th>\n",
       "      <th></th>\n",
       "      <th></th>\n",
       "      <th></th>\n",
       "      <th></th>\n",
       "      <th></th>\n",
       "      <th></th>\n",
       "      <th></th>\n",
       "    </tr>\n",
       "  </thead>\n",
       "  <tbody>\n",
       "    <tr>\n",
       "      <th>2017-01-03</th>\n",
       "      <td>753.669983</td>\n",
       "      <td>27.372362</td>\n",
       "      <td>71.727982</td>\n",
       "      <td>218.657150</td>\n",
       "      <td>145.533676</td>\n",
       "      <td>225.550034</td>\n",
       "      <td>107.097153</td>\n",
       "      <td>32.440598</td>\n",
       "      <td>134.699081</td>\n",
       "      <td>64.976089</td>\n",
       "      <td>...</td>\n",
       "      <td>3741200.0</td>\n",
       "      <td>14711000.0</td>\n",
       "      <td>5953000.0</td>\n",
       "      <td>204000.0</td>\n",
       "      <td>864500.0</td>\n",
       "      <td>10360600.0</td>\n",
       "      <td>7404800.0</td>\n",
       "      <td>4425000.0</td>\n",
       "      <td>40510800.0</td>\n",
       "      <td>99298100.0</td>\n",
       "    </tr>\n",
       "    <tr>\n",
       "      <th>2017-01-04</th>\n",
       "      <td>757.179993</td>\n",
       "      <td>27.341724</td>\n",
       "      <td>71.745277</td>\n",
       "      <td>218.992264</td>\n",
       "      <td>147.063477</td>\n",
       "      <td>226.155518</td>\n",
       "      <td>106.971786</td>\n",
       "      <td>32.272194</td>\n",
       "      <td>136.366806</td>\n",
       "      <td>64.896614</td>\n",
       "      <td>...</td>\n",
       "      <td>3029700.0</td>\n",
       "      <td>9959400.0</td>\n",
       "      <td>5828900.0</td>\n",
       "      <td>250600.0</td>\n",
       "      <td>705500.0</td>\n",
       "      <td>9434200.0</td>\n",
       "      <td>6679900.0</td>\n",
       "      <td>7431000.0</td>\n",
       "      <td>77638100.0</td>\n",
       "      <td>76875100.0</td>\n",
       "    </tr>\n",
       "    <tr>\n",
       "      <th>2017-01-05</th>\n",
       "      <td>780.450012</td>\n",
       "      <td>27.480770</td>\n",
       "      <td>71.788513</td>\n",
       "      <td>219.681137</td>\n",
       "      <td>147.146927</td>\n",
       "      <td>227.927414</td>\n",
       "      <td>107.168755</td>\n",
       "      <td>32.219013</td>\n",
       "      <td>135.915649</td>\n",
       "      <td>64.393265</td>\n",
       "      <td>...</td>\n",
       "      <td>5087200.0</td>\n",
       "      <td>8968300.0</td>\n",
       "      <td>6217200.0</td>\n",
       "      <td>525900.0</td>\n",
       "      <td>482600.0</td>\n",
       "      <td>14443200.0</td>\n",
       "      <td>5928600.0</td>\n",
       "      <td>6450600.0</td>\n",
       "      <td>75628400.0</td>\n",
       "      <td>86826400.0</td>\n",
       "    </tr>\n",
       "    <tr>\n",
       "      <th>2017-01-06</th>\n",
       "      <td>795.989990</td>\n",
       "      <td>27.787130</td>\n",
       "      <td>71.849030</td>\n",
       "      <td>220.369980</td>\n",
       "      <td>147.508514</td>\n",
       "      <td>229.592468</td>\n",
       "      <td>108.117798</td>\n",
       "      <td>32.334232</td>\n",
       "      <td>136.584320</td>\n",
       "      <td>65.479454</td>\n",
       "      <td>...</td>\n",
       "      <td>4109700.0</td>\n",
       "      <td>10246600.0</td>\n",
       "      <td>5221400.0</td>\n",
       "      <td>171600.0</td>\n",
       "      <td>493600.0</td>\n",
       "      <td>16518100.0</td>\n",
       "      <td>4762500.0</td>\n",
       "      <td>3771700.0</td>\n",
       "      <td>40315900.0</td>\n",
       "      <td>66281500.0</td>\n",
       "    </tr>\n",
       "    <tr>\n",
       "      <th>2017-01-09</th>\n",
       "      <td>796.919983</td>\n",
       "      <td>28.041647</td>\n",
       "      <td>71.373482</td>\n",
       "      <td>219.513580</td>\n",
       "      <td>146.785309</td>\n",
       "      <td>229.556885</td>\n",
       "      <td>107.822342</td>\n",
       "      <td>32.449463</td>\n",
       "      <td>135.069672</td>\n",
       "      <td>65.647224</td>\n",
       "      <td>...</td>\n",
       "      <td>5603500.0</td>\n",
       "      <td>14822500.0</td>\n",
       "      <td>5457500.0</td>\n",
       "      <td>135800.0</td>\n",
       "      <td>585200.0</td>\n",
       "      <td>13762300.0</td>\n",
       "      <td>6891800.0</td>\n",
       "      <td>5132600.0</td>\n",
       "      <td>39438400.0</td>\n",
       "      <td>75901500.0</td>\n",
       "    </tr>\n",
       "    <tr>\n",
       "      <th>...</th>\n",
       "      <td>...</td>\n",
       "      <td>...</td>\n",
       "      <td>...</td>\n",
       "      <td>...</td>\n",
       "      <td>...</td>\n",
       "      <td>...</td>\n",
       "      <td>...</td>\n",
       "      <td>...</td>\n",
       "      <td>...</td>\n",
       "      <td>...</td>\n",
       "      <td>...</td>\n",
       "      <td>...</td>\n",
       "      <td>...</td>\n",
       "      <td>...</td>\n",
       "      <td>...</td>\n",
       "      <td>...</td>\n",
       "      <td>...</td>\n",
       "      <td>...</td>\n",
       "      <td>...</td>\n",
       "      <td>...</td>\n",
       "      <td>...</td>\n",
       "    </tr>\n",
       "    <tr>\n",
       "      <th>2019-12-24</th>\n",
       "      <td>1789.209961</td>\n",
       "      <td>70.129517</td>\n",
       "      <td>54.346359</td>\n",
       "      <td>338.253510</td>\n",
       "      <td>331.030457</td>\n",
       "      <td>374.972717</td>\n",
       "      <td>189.661789</td>\n",
       "      <td>56.896416</td>\n",
       "      <td>123.739563</td>\n",
       "      <td>122.737793</td>\n",
       "      <td>...</td>\n",
       "      <td>1220600.0</td>\n",
       "      <td>3359300.0</td>\n",
       "      <td>4238900.0</td>\n",
       "      <td>66700.0</td>\n",
       "      <td>157600.0</td>\n",
       "      <td>3979400.0</td>\n",
       "      <td>1640100.0</td>\n",
       "      <td>559800.0</td>\n",
       "      <td>11881600.0</td>\n",
       "      <td>13805400.0</td>\n",
       "    </tr>\n",
       "    <tr>\n",
       "      <th>2019-12-26</th>\n",
       "      <td>1868.770020</td>\n",
       "      <td>71.520905</td>\n",
       "      <td>54.858624</td>\n",
       "      <td>339.111115</td>\n",
       "      <td>327.968689</td>\n",
       "      <td>377.019775</td>\n",
       "      <td>190.037888</td>\n",
       "      <td>57.289066</td>\n",
       "      <td>123.675400</td>\n",
       "      <td>122.690025</td>\n",
       "      <td>...</td>\n",
       "      <td>2934700.0</td>\n",
       "      <td>6228500.0</td>\n",
       "      <td>3019300.0</td>\n",
       "      <td>73700.0</td>\n",
       "      <td>230000.0</td>\n",
       "      <td>8840200.0</td>\n",
       "      <td>3648600.0</td>\n",
       "      <td>1205800.0</td>\n",
       "      <td>28961300.0</td>\n",
       "      <td>26992100.0</td>\n",
       "    </tr>\n",
       "    <tr>\n",
       "      <th>2019-12-27</th>\n",
       "      <td>1869.800049</td>\n",
       "      <td>71.493759</td>\n",
       "      <td>54.970387</td>\n",
       "      <td>337.629822</td>\n",
       "      <td>328.187408</td>\n",
       "      <td>378.269135</td>\n",
       "      <td>191.108337</td>\n",
       "      <td>57.538074</td>\n",
       "      <td>124.005402</td>\n",
       "      <td>122.775986</td>\n",
       "      <td>...</td>\n",
       "      <td>2554000.0</td>\n",
       "      <td>6895500.0</td>\n",
       "      <td>3432700.0</td>\n",
       "      <td>133000.0</td>\n",
       "      <td>336500.0</td>\n",
       "      <td>10516100.0</td>\n",
       "      <td>4138300.0</td>\n",
       "      <td>1752400.0</td>\n",
       "      <td>28272800.0</td>\n",
       "      <td>28111300.0</td>\n",
       "    </tr>\n",
       "    <tr>\n",
       "      <th>2019-12-30</th>\n",
       "      <td>1846.890015</td>\n",
       "      <td>71.918083</td>\n",
       "      <td>54.867935</td>\n",
       "      <td>340.192902</td>\n",
       "      <td>324.469513</td>\n",
       "      <td>376.635376</td>\n",
       "      <td>189.893250</td>\n",
       "      <td>57.097530</td>\n",
       "      <td>121.750267</td>\n",
       "      <td>121.906990</td>\n",
       "      <td>...</td>\n",
       "      <td>3024700.0</td>\n",
       "      <td>6431700.0</td>\n",
       "      <td>2923300.0</td>\n",
       "      <td>91800.0</td>\n",
       "      <td>498600.0</td>\n",
       "      <td>12689400.0</td>\n",
       "      <td>4580200.0</td>\n",
       "      <td>2186800.0</td>\n",
       "      <td>36074900.0</td>\n",
       "      <td>30705100.0</td>\n",
       "    </tr>\n",
       "    <tr>\n",
       "      <th>2019-12-31</th>\n",
       "      <td>1847.839966</td>\n",
       "      <td>72.443558</td>\n",
       "      <td>54.914501</td>\n",
       "      <td>335.222595</td>\n",
       "      <td>323.833313</td>\n",
       "      <td>374.213501</td>\n",
       "      <td>190.568314</td>\n",
       "      <td>57.317799</td>\n",
       "      <td>122.877831</td>\n",
       "      <td>122.508583</td>\n",
       "      <td>...</td>\n",
       "      <td>3229400.0</td>\n",
       "      <td>7982600.0</td>\n",
       "      <td>4435000.0</td>\n",
       "      <td>89700.0</td>\n",
       "      <td>270500.0</td>\n",
       "      <td>13151800.0</td>\n",
       "      <td>4215700.0</td>\n",
       "      <td>1582000.0</td>\n",
       "      <td>32342100.0</td>\n",
       "      <td>29630100.0</td>\n",
       "    </tr>\n",
       "  </tbody>\n",
       "</table>\n",
       "<p>754 rows × 144 columns</p>\n",
       "</div>"
      ],
      "text/plain": [
       "Attributes    Adj Close                                                \\\n",
       "Symbols            AMZN       AAPL        WBA         NOC          BA   \n",
       "Date                                                                    \n",
       "2017-01-03   753.669983  27.372362  71.727982  218.657150  145.533676   \n",
       "2017-01-04   757.179993  27.341724  71.745277  218.992264  147.063477   \n",
       "2017-01-05   780.450012  27.480770  71.788513  219.681137  147.146927   \n",
       "2017-01-06   795.989990  27.787130  71.849030  220.369980  147.508514   \n",
       "2017-01-09   796.919983  28.041647  71.373482  219.513580  146.785309   \n",
       "...                 ...        ...        ...         ...         ...   \n",
       "2019-12-24  1789.209961  70.129517  54.346359  338.253510  331.030457   \n",
       "2019-12-26  1868.770020  71.520905  54.858624  339.111115  327.968689   \n",
       "2019-12-27  1869.800049  71.493759  54.970387  337.629822  328.187408   \n",
       "2019-12-30  1846.890015  71.918083  54.867935  340.192902  324.469513   \n",
       "2019-12-31  1847.839966  72.443558  54.914501  335.222595  323.833313   \n",
       "\n",
       "Attributes                                                             ...  \\\n",
       "Symbols            LMT         MCD       INTC         IBM         TXN  ...   \n",
       "Date                                                                   ...   \n",
       "2017-01-03  225.550034  107.097153  32.440598  134.699081   64.976089  ...   \n",
       "2017-01-04  226.155518  106.971786  32.272194  136.366806   64.896614  ...   \n",
       "2017-01-05  227.927414  107.168755  32.219013  135.915649   64.393265  ...   \n",
       "2017-01-06  229.592468  108.117798  32.334232  136.584320   65.479454  ...   \n",
       "2017-01-09  229.556885  107.822342  32.449463  135.069672   65.647224  ...   \n",
       "...                ...         ...        ...         ...         ...  ...   \n",
       "2019-12-24  374.972717  189.661789  56.896416  123.739563  122.737793  ...   \n",
       "2019-12-26  377.019775  190.037888  57.289066  123.675400  122.690025  ...   \n",
       "2019-12-27  378.269135  191.108337  57.538074  124.005402  122.775986  ...   \n",
       "2019-12-30  376.635376  189.893250  57.097530  121.750267  121.906990  ...   \n",
       "2019-12-31  374.213501  190.568314  57.317799  122.877831  122.508583  ...   \n",
       "\n",
       "Attributes     Volume                                                         \\\n",
       "Symbols           PEP          KO        JNJ        TM       HMC         XOM   \n",
       "Date                                                                           \n",
       "2017-01-03  3741200.0  14711000.0  5953000.0  204000.0  864500.0  10360600.0   \n",
       "2017-01-04  3029700.0   9959400.0  5828900.0  250600.0  705500.0   9434200.0   \n",
       "2017-01-05  5087200.0   8968300.0  6217200.0  525900.0  482600.0  14443200.0   \n",
       "2017-01-06  4109700.0  10246600.0  5221400.0  171600.0  493600.0  16518100.0   \n",
       "2017-01-09  5603500.0  14822500.0  5457500.0  135800.0  585200.0  13762300.0   \n",
       "...               ...         ...        ...       ...       ...         ...   \n",
       "2019-12-24  1220600.0   3359300.0  4238900.0   66700.0  157600.0   3979400.0   \n",
       "2019-12-26  2934700.0   6228500.0  3019300.0   73700.0  230000.0   8840200.0   \n",
       "2019-12-27  2554000.0   6895500.0  3432700.0  133000.0  336500.0  10516100.0   \n",
       "2019-12-30  3024700.0   6431700.0  2923300.0   91800.0  498600.0  12689400.0   \n",
       "2019-12-31  3229400.0   7982600.0  4435000.0   89700.0  270500.0  13151800.0   \n",
       "\n",
       "Attributes                                                \n",
       "Symbols           CVX        VLO           F         BAC  \n",
       "Date                                                      \n",
       "2017-01-03  7404800.0  4425000.0  40510800.0  99298100.0  \n",
       "2017-01-04  6679900.0  7431000.0  77638100.0  76875100.0  \n",
       "2017-01-05  5928600.0  6450600.0  75628400.0  86826400.0  \n",
       "2017-01-06  4762500.0  3771700.0  40315900.0  66281500.0  \n",
       "2017-01-09  6891800.0  5132600.0  39438400.0  75901500.0  \n",
       "...               ...        ...         ...         ...  \n",
       "2019-12-24  1640100.0   559800.0  11881600.0  13805400.0  \n",
       "2019-12-26  3648600.0  1205800.0  28961300.0  26992100.0  \n",
       "2019-12-27  4138300.0  1752400.0  28272800.0  28111300.0  \n",
       "2019-12-30  4580200.0  2186800.0  36074900.0  30705100.0  \n",
       "2019-12-31  4215700.0  1582000.0  32342100.0  29630100.0  \n",
       "\n",
       "[754 rows x 144 columns]"
      ]
     },
     "execution_count": 6,
     "metadata": {},
     "output_type": "execute_result"
    }
   ],
   "source": [
    "stock_data"
   ]
  },
  {
   "cell_type": "markdown",
   "metadata": {},
   "source": [
    "This is a multi index pandas dataframe."
   ]
  },
  {
   "cell_type": "code",
   "execution_count": 7,
   "metadata": {},
   "outputs": [
    {
     "data": {
      "text/plain": [
       "MultiIndex([('Adj Close', 'AMZN'),\n",
       "            ('Adj Close', 'AAPL'),\n",
       "            ('Adj Close',  'WBA'),\n",
       "            ('Adj Close',  'NOC'),\n",
       "            ('Adj Close',   'BA'),\n",
       "            ('Adj Close',  'LMT'),\n",
       "            ('Adj Close',  'MCD'),\n",
       "            ('Adj Close', 'INTC'),\n",
       "            ('Adj Close',  'IBM'),\n",
       "            ('Adj Close',  'TXN'),\n",
       "            ...\n",
       "            (   'Volume',  'PEP'),\n",
       "            (   'Volume',   'KO'),\n",
       "            (   'Volume',  'JNJ'),\n",
       "            (   'Volume',   'TM'),\n",
       "            (   'Volume',  'HMC'),\n",
       "            (   'Volume',  'XOM'),\n",
       "            (   'Volume',  'CVX'),\n",
       "            (   'Volume',  'VLO'),\n",
       "            (   'Volume',    'F'),\n",
       "            (   'Volume',  'BAC')],\n",
       "           names=['Attributes', 'Symbols'], length=144)"
      ]
     },
     "execution_count": 7,
     "metadata": {},
     "output_type": "execute_result"
    }
   ],
   "source": [
    "stock_data.columns"
   ]
  },
  {
   "cell_type": "code",
   "execution_count": 8,
   "metadata": {},
   "outputs": [
    {
     "data": {
      "text/plain": [
       "Attributes  Symbols\n",
       "Adj Close   AMZN       float64\n",
       "            AAPL       float64\n",
       "            WBA        float64\n",
       "            NOC        float64\n",
       "            BA         float64\n",
       "                        ...   \n",
       "Volume      XOM        float64\n",
       "            CVX        float64\n",
       "            VLO        float64\n",
       "            F          float64\n",
       "            BAC        float64\n",
       "Length: 144, dtype: object"
      ]
     },
     "execution_count": 8,
     "metadata": {},
     "output_type": "execute_result"
    }
   ],
   "source": [
    "stock_data.dtypes"
   ]
  },
  {
   "cell_type": "code",
   "execution_count": 9,
   "metadata": {},
   "outputs": [
    {
     "data": {
      "text/plain": [
       "(754, 144)"
      ]
     },
     "execution_count": 9,
     "metadata": {},
     "output_type": "execute_result"
    }
   ],
   "source": [
    "stock_data.shape"
   ]
  },
  {
   "cell_type": "code",
   "execution_count": 10,
   "metadata": {},
   "outputs": [
    {
     "data": {
      "text/plain": [
       "[DatetimeIndex(['2017-01-03', '2017-01-04', '2017-01-05', '2017-01-06',\n",
       "                '2017-01-09', '2017-01-10', '2017-01-11', '2017-01-12',\n",
       "                '2017-01-13', '2017-01-17',\n",
       "                ...\n",
       "                '2019-12-17', '2019-12-18', '2019-12-19', '2019-12-20',\n",
       "                '2019-12-23', '2019-12-24', '2019-12-26', '2019-12-27',\n",
       "                '2019-12-30', '2019-12-31'],\n",
       "               dtype='datetime64[ns]', name='Date', length=754, freq=None),\n",
       " MultiIndex([('Adj Close', 'AMZN'),\n",
       "             ('Adj Close', 'AAPL'),\n",
       "             ('Adj Close',  'WBA'),\n",
       "             ('Adj Close',  'NOC'),\n",
       "             ('Adj Close',   'BA'),\n",
       "             ('Adj Close',  'LMT'),\n",
       "             ('Adj Close',  'MCD'),\n",
       "             ('Adj Close', 'INTC'),\n",
       "             ('Adj Close',  'IBM'),\n",
       "             ('Adj Close',  'TXN'),\n",
       "             ...\n",
       "             (   'Volume',  'PEP'),\n",
       "             (   'Volume',   'KO'),\n",
       "             (   'Volume',  'JNJ'),\n",
       "             (   'Volume',   'TM'),\n",
       "             (   'Volume',  'HMC'),\n",
       "             (   'Volume',  'XOM'),\n",
       "             (   'Volume',  'CVX'),\n",
       "             (   'Volume',  'VLO'),\n",
       "             (   'Volume',    'F'),\n",
       "             (   'Volume',  'BAC')],\n",
       "            names=['Attributes', 'Symbols'], length=144)]"
      ]
     },
     "execution_count": 10,
     "metadata": {},
     "output_type": "execute_result"
    }
   ],
   "source": [
    "stock_data.axes"
   ]
  },
  {
   "cell_type": "code",
   "execution_count": 11,
   "metadata": {},
   "outputs": [],
   "source": [
    "# Find Stock Open and Close Values\n",
    "stock_close = stock_data['Close']\n",
    "stock_open = stock_data['Open']"
   ]
  },
  {
   "cell_type": "code",
   "execution_count": 12,
   "metadata": {},
   "outputs": [
    {
     "name": "stdout",
     "output_type": "stream",
     "text": [
      "Symbols\n",
      "AMZN    753.669983\n",
      "AAPL     29.037500\n",
      "WBA      82.959999\n",
      "NOC     234.889999\n",
      "BA      156.970001\n",
      "LMT     253.309998\n",
      "MCD     119.620003\n",
      "INTC     36.599998\n",
      "IBM     167.190002\n",
      "TXN      73.580002\n",
      "MA      105.389999\n",
      "MSFT     62.580002\n",
      "GE      243.769226\n",
      "AXP      75.349998\n",
      "PEP     104.650002\n",
      "KO       41.799999\n",
      "JNJ     115.839996\n",
      "TM      118.550003\n",
      "HMC      29.610001\n",
      "XOM      90.889999\n",
      "CVX     117.849998\n",
      "VLO      70.419998\n",
      "F        12.590000\n",
      "BAC      22.530001\n",
      "Name: 2017-01-03 00:00:00, dtype: float64\n"
     ]
    }
   ],
   "source": [
    "print(stock_close.iloc[0]) #the closing value of the first day for e.g"
   ]
  },
  {
   "cell_type": "code",
   "execution_count": 13,
   "metadata": {},
   "outputs": [
    {
     "name": "stdout",
     "output_type": "stream",
     "text": [
      "Symbols\n",
      "AMZN    757.919983\n",
      "AAPL     28.950001\n",
      "WBA      83.099998\n",
      "NOC     234.100006\n",
      "BA      156.300003\n",
      "LMT     251.199997\n",
      "MCD     121.860001\n",
      "INTC     36.610001\n",
      "IBM     167.000000\n",
      "TXN      73.529999\n",
      "MA      104.410004\n",
      "MSFT     62.790001\n",
      "GE      243.615387\n",
      "AXP      74.889999\n",
      "PEP     104.940002\n",
      "KO       41.500000\n",
      "JNJ     115.779999\n",
      "TM      118.169998\n",
      "HMC      29.480000\n",
      "XOM      90.940002\n",
      "CVX     118.379997\n",
      "VLO      69.550003\n",
      "F        12.200000\n",
      "BAC      22.600000\n",
      "Name: 2017-01-03 00:00:00, dtype: float64\n"
     ]
    }
   ],
   "source": [
    "print(stock_open.iloc[0]) #the opening value of first day"
   ]
  },
  {
   "cell_type": "code",
   "execution_count": 14,
   "metadata": {},
   "outputs": [],
   "source": [
    "# stock-open and stock-close in terms of numpy array:\n",
    "stock_open = np.array(stock_data['Open']).T # stock_open is numpy array of transpose of stock_data['Open']\n",
    "stock_close = np.array(stock_data['Close']).T"
   ]
  },
  {
   "cell_type": "code",
   "execution_count": 15,
   "metadata": {},
   "outputs": [
    {
     "name": "stdout",
     "output_type": "stream",
     "text": [
      "24\n",
      "754\n"
     ]
    }
   ],
   "source": [
    "rows,col = stock_close.shape\n",
    "print(rows)\n",
    "print(col)"
   ]
  },
  {
   "cell_type": "markdown",
   "metadata": {},
   "source": [
    "We can see that we have 24 companies and total of 754 days."
   ]
  },
  {
   "cell_type": "markdown",
   "metadata": {},
   "source": [
    "**Calculating daily stock movements**"
   ]
  },
  {
   "cell_type": "markdown",
   "metadata": {},
   "source": [
    "**Stock movememt** is the difference between the opening and closing prices of a day.\n",
    "\n",
    "**Sum_of_movement** of a company is defined as sum of differences of closing and opening prices of all days."
   ]
  },
  {
   "cell_type": "code",
   "execution_count": 16,
   "metadata": {},
   "outputs": [],
   "source": [
    "movements = stock_close - stock_open\n",
    "sum_of_movement = np.sum(movements,1)"
   ]
  },
  {
   "cell_type": "code",
   "execution_count": 17,
   "metadata": {},
   "outputs": [
    {
     "data": {
      "text/plain": [
       "array([[ -4.25      ,  -1.21002197,  18.90002441, ..., -13.11999512,\n",
       "        -27.10998535,   5.83996582],\n",
       "       [  0.08749962,   0.04249954,   0.17250061, ...,  -0.33000183,\n",
       "          0.51499939,   0.93000031],\n",
       "       [ -0.13999939,  -0.31999969,   1.02999878, ...,   0.10000229,\n",
       "         -0.18000031,   0.13999939],\n",
       "       ...,\n",
       "       [  0.86999512,  -1.65000153,  -0.70999908, ...,  -1.58000183,\n",
       "         -0.13000488,   0.70000458],\n",
       "       [  0.39000034,   0.39999962,  -0.43999958, ...,  -0.09000015,\n",
       "         -0.09000015,   0.05000019],\n",
       "       [ -0.06999969,   0.23000145,  -0.13999939, ...,  -0.35000229,\n",
       "         -0.41999817,   0.19000244]])"
      ]
     },
     "execution_count": 17,
     "metadata": {},
     "output_type": "execute_result"
    }
   ],
   "source": [
    "movements"
   ]
  },
  {
   "cell_type": "code",
   "execution_count": 18,
   "metadata": {},
   "outputs": [
    {
     "name": "stdout",
     "output_type": "stream",
     "text": [
      "Company: AMZN, Change: -504.60015869140625\n",
      "Company: AAPL, Change: 27.39501953125\n",
      "Company: WBA, Change: -32.739986419677734\n",
      "Company: NOC, Change: -24.72064208984375\n",
      "Company: BA, Change: 85.99972534179688\n",
      "Company: LMT, Change: -47.93971252441406\n",
      "Company: MCD, Change: -10.049964904785156\n",
      "Company: INTC, Change: 15.54000473022461\n",
      "Company: IBM, Change: -49.39971160888672\n",
      "Company: TXN, Change: 26.349945068359375\n",
      "Company: MA, Change: 51.199981689453125\n",
      "Company: MSFT, Change: -3.890026092529297\n",
      "Company: GE, Change: -149.99381256103516\n",
      "Company: AXP, Change: 0.470123291015625\n",
      "Company: PEP, Change: 7.750099182128906\n",
      "Company: KO, Change: 7.289997100830078\n",
      "Company: JNJ, Change: 6.119964599609375\n",
      "Company: TM, Change: -16.17992401123047\n",
      "Company: HMC, Change: -9.17000961303711\n",
      "Company: XOM, Change: -24.850074768066406\n",
      "Company: CVX, Change: -38.81989288330078\n",
      "Company: VLO, Change: -11.969917297363281\n",
      "Company: F, Change: -6.680003643035889\n",
      "Company: BAC, Change: 0.7799644470214844\n"
     ]
    }
   ],
   "source": [
    "# printing the movements along with company name:\n",
    "\n",
    "for i in range(len(companies)):\n",
    "    print('Company: {}, Change: {}'.format(stock_data.columns[i][1],sum_of_movement[i]))  #each column is a tuple so 1."
   ]
  },
  {
   "cell_type": "markdown",
   "metadata": {},
   "source": [
    "**The companies where change is positive, we can buy that stock and where it is negative, we should sell.**"
   ]
  },
  {
   "cell_type": "markdown",
   "metadata": {},
   "source": [
    "### Visualizations"
   ]
  },
  {
   "cell_type": "code",
   "execution_count": 19,
   "metadata": {},
   "outputs": [
    {
     "data": {
      "text/plain": [
       "[<matplotlib.lines.Line2D at 0x26f60a0efa0>]"
      ]
     },
     "execution_count": 19,
     "metadata": {},
     "output_type": "execute_result"
    },
    {
     "data": {
      "image/png": "[encoded data removed]",
      "text/plain": [
       "<Figure size 1080x360 with 2 Axes>"
      ]
     },
     "metadata": {
      "needs_background": "light"
     },
     "output_type": "display_data"
    }
   ],
   "source": [
    "# Some plots to visualize the opening and closing prices of two companies:\n",
    "\n",
    "plt.figure(figsize = (15,5)) \n",
    "\n",
    "plt.subplot(121) \n",
    "plt.title('Amazon',fontsize = 20)\n",
    "plt.xticks(fontsize = 8)\n",
    "plt.yticks(fontsize = 15)\n",
    "plt.xlabel('Date',fontsize = 15)\n",
    "plt.ylabel('Opening price',fontsize = 15)\n",
    "plt.plot(stock_data['Open']['AMZN'],'k')\n",
    "\n",
    " \n",
    "plt.subplot(122) \n",
    "plt.title('Apple',fontsize = 20)\n",
    "plt.xticks(fontsize = 8)\n",
    "plt.yticks(fontsize = 15)\n",
    "plt.xlabel('Date',fontsize = 15)\n",
    "plt.ylabel('Opening price',fontsize = 15)\n",
    "plt.plot(stock_data['Open']['AAPL'],'k')\n"
   ]
  },
  {
   "cell_type": "code",
   "execution_count": 20,
   "metadata": {},
   "outputs": [
    {
     "data": {
      "image/png": "[encoded data removed]",
      "text/plain": [
       "<Figure size 1080x360 with 2 Axes>"
      ]
     },
     "metadata": {
      "needs_background": "light"
     },
     "output_type": "display_data"
    }
   ],
   "source": [
    "# plotting the movemnets\n",
    "\n",
    "plt.figure(figsize=(15,5))\n",
    "ax1= plt.subplot(121)\n",
    "plt.plot(movements[0][:],'g')\n",
    "plt.title(companies[0])\n",
    "\n",
    "plt.subplot(122,sharey=ax1)\n",
    "plt.plot(movements[1][:],'g')\n",
    "plt.title(companies[1])\n",
    "plt.show()"
   ]
  },
  {
   "cell_type": "markdown",
   "metadata": {},
   "source": [
    "What we can see from these two stocks is that we have different scales between the price movements. This means we need to do a **normalization step** before we apply k-means clustering."
   ]
  },
  {
   "cell_type": "markdown",
   "metadata": {},
   "source": [
    "### Model"
   ]
  },
  {
   "cell_type": "markdown",
   "metadata": {},
   "source": [
    "We will be using k means clustering to group companies based on daily stock movements."
   ]
  },
  {
   "cell_type": "markdown",
   "metadata": {},
   "source": [
    "**K-Means Clustering:** Clustering is an unsupervised machine learning algorithm which involves dividing the entire data into groups (also known as clusters) based on the patterns in the data. Clustering is a widely used technique in the industry. It is actually being used in almost every domain, ranging from banking to recommendation engines, document clustering to image segmentation.\n",
    "\n",
    "K-means is a centroid-based algorithm, or a distance-based algorithm, where we calculate the distances to assign a point to a cluster. In K-Means, each cluster is associated with a centroid.\n",
    "*The main objective of the K-Means algorithm is to minimize the sum of distances between the points and their respective cluster centroid.*\n",
    "\n",
    "Algorithm:\n",
    "- **Step 1:** The first step in k-means is to pick the number of clusters, k.\n",
    "- **Step 2:** Next, we randomly select the centroid for each cluster. Let’s say we want to have 2 clusters, so k is equal to 2 here. We then randomly select the centroid for each of these clusters.\n",
    "- **Step 3:** Once we have initialized the centroids, we assign each point to the closest cluster centroid.\n",
    "- **Step 4:** Recompute the centroids of newly formed clusters.Once we have assigned all of the points to either cluster, the next step is to compute the centroids of newly formed clusters.\n",
    "- **Step 5:** Repeat steps 3 and 4.\n",
    "\n",
    "Stopping Criteria for K-Means Clustering:\n",
    "There are essentially three stopping criteria that can be adopted to stop the K-means algorithm:\n",
    "- Centroids of newly formed clusters do not change\n",
    "- Points remain in the same cluster\n",
    "- Maximum number of iterations are reached"
   ]
  },
  {
   "cell_type": "code",
   "execution_count": 21,
   "metadata": {},
   "outputs": [
    {
     "data": {
      "text/html": [
       "<div>\n",
       "<style scoped>\n",
       "    .dataframe tbody tr th:only-of-type {\n",
       "        vertical-align: middle;\n",
       "    }\n",
       "\n",
       "    .dataframe tbody tr th {\n",
       "        vertical-align: top;\n",
       "    }\n",
       "\n",
       "    .dataframe thead tr th {\n",
       "        text-align: left;\n",
       "    }\n",
       "</style>\n",
       "<table border=\"1\" class=\"dataframe\">\n",
       "  <thead>\n",
       "    <tr>\n",
       "      <th>Attributes</th>\n",
       "      <th colspan=\"10\" halign=\"left\">Adj Close</th>\n",
       "      <th>...</th>\n",
       "      <th colspan=\"10\" halign=\"left\">Volume</th>\n",
       "    </tr>\n",
       "    <tr>\n",
       "      <th>Symbols</th>\n",
       "      <th>AMZN</th>\n",
       "      <th>AAPL</th>\n",
       "      <th>WBA</th>\n",
       "      <th>NOC</th>\n",
       "      <th>BA</th>\n",
       "      <th>LMT</th>\n",
       "      <th>MCD</th>\n",
       "      <th>INTC</th>\n",
       "      <th>IBM</th>\n",
       "      <th>TXN</th>\n",
       "      <th>...</th>\n",
       "      <th>PEP</th>\n",
       "      <th>KO</th>\n",
       "      <th>JNJ</th>\n",
       "      <th>TM</th>\n",
       "      <th>HMC</th>\n",
       "      <th>XOM</th>\n",
       "      <th>CVX</th>\n",
       "      <th>VLO</th>\n",
       "      <th>F</th>\n",
       "      <th>BAC</th>\n",
       "    </tr>\n",
       "  </thead>\n",
       "  <tbody>\n",
       "    <tr>\n",
       "      <th>count</th>\n",
       "      <td>754.000000</td>\n",
       "      <td>754.000000</td>\n",
       "      <td>754.000000</td>\n",
       "      <td>754.000000</td>\n",
       "      <td>754.000000</td>\n",
       "      <td>754.000000</td>\n",
       "      <td>754.000000</td>\n",
       "      <td>754.000000</td>\n",
       "      <td>754.000000</td>\n",
       "      <td>754.000000</td>\n",
       "      <td>...</td>\n",
       "      <td>7.540000e+02</td>\n",
       "      <td>7.540000e+02</td>\n",
       "      <td>7.540000e+02</td>\n",
       "      <td>754.000000</td>\n",
       "      <td>7.540000e+02</td>\n",
       "      <td>7.540000e+02</td>\n",
       "      <td>7.540000e+02</td>\n",
       "      <td>7.540000e+02</td>\n",
       "      <td>7.540000e+02</td>\n",
       "      <td>7.540000e+02</td>\n",
       "    </tr>\n",
       "    <tr>\n",
       "      <th>mean</th>\n",
       "      <td>1466.788952</td>\n",
       "      <td>44.180329</td>\n",
       "      <td>61.659956</td>\n",
       "      <td>284.476826</td>\n",
       "      <td>297.983058</td>\n",
       "      <td>295.642103</td>\n",
       "      <td>159.415091</td>\n",
       "      <td>42.677547</td>\n",
       "      <td>125.054425</td>\n",
       "      <td>94.022884</td>\n",
       "      <td>...</td>\n",
       "      <td>4.351399e+06</td>\n",
       "      <td>1.225216e+07</td>\n",
       "      <td>6.871945e+06</td>\n",
       "      <td>183997.480106</td>\n",
       "      <td>6.552447e+05</td>\n",
       "      <td>1.206828e+07</td>\n",
       "      <td>6.197533e+06</td>\n",
       "      <td>3.656515e+06</td>\n",
       "      <td>3.985812e+07</td>\n",
       "      <td>6.698125e+07</td>\n",
       "    </tr>\n",
       "    <tr>\n",
       "      <th>std</th>\n",
       "      <td>384.674691</td>\n",
       "      <td>8.835500</td>\n",
       "      <td>8.498216</td>\n",
       "      <td>39.969458</td>\n",
       "      <td>73.810424</td>\n",
       "      <td>39.885969</td>\n",
       "      <td>25.757203</td>\n",
       "      <td>7.260914</td>\n",
       "      <td>9.124504</td>\n",
       "      <td>16.071237</td>\n",
       "      <td>...</td>\n",
       "      <td>1.829997e+06</td>\n",
       "      <td>4.972239e+06</td>\n",
       "      <td>3.507888e+06</td>\n",
       "      <td>92199.241968</td>\n",
       "      <td>3.372088e+05</td>\n",
       "      <td>4.559755e+06</td>\n",
       "      <td>2.637833e+06</td>\n",
       "      <td>1.337282e+06</td>\n",
       "      <td>1.626750e+07</td>\n",
       "      <td>2.680503e+07</td>\n",
       "    </tr>\n",
       "    <tr>\n",
       "      <th>min</th>\n",
       "      <td>753.669983</td>\n",
       "      <td>27.341724</td>\n",
       "      <td>45.155109</td>\n",
       "      <td>211.275208</td>\n",
       "      <td>145.533676</td>\n",
       "      <td>223.404129</td>\n",
       "      <td>106.971786</td>\n",
       "      <td>30.091368</td>\n",
       "      <td>94.098885</td>\n",
       "      <td>64.393265</td>\n",
       "      <td>...</td>\n",
       "      <td>1.183000e+06</td>\n",
       "      <td>2.996300e+06</td>\n",
       "      <td>2.469500e+06</td>\n",
       "      <td>48400.000000</td>\n",
       "      <td>1.576000e+05</td>\n",
       "      <td>3.851300e+06</td>\n",
       "      <td>1.640100e+06</td>\n",
       "      <td>5.598000e+05</td>\n",
       "      <td>9.549600e+06</td>\n",
       "      <td>1.380540e+07</td>\n",
       "    </tr>\n",
       "    <tr>\n",
       "      <th>25%</th>\n",
       "      <td>1003.184998</td>\n",
       "      <td>37.489974</td>\n",
       "      <td>55.570701</td>\n",
       "      <td>252.037868</td>\n",
       "      <td>242.664055</td>\n",
       "      <td>272.276665</td>\n",
       "      <td>144.567299</td>\n",
       "      <td>35.407139</td>\n",
       "      <td>121.258448</td>\n",
       "      <td>80.717577</td>\n",
       "      <td>...</td>\n",
       "      <td>3.232025e+06</td>\n",
       "      <td>9.230625e+06</td>\n",
       "      <td>5.101400e+06</td>\n",
       "      <td>119450.000000</td>\n",
       "      <td>4.165250e+05</td>\n",
       "      <td>9.219000e+06</td>\n",
       "      <td>4.684350e+06</td>\n",
       "      <td>2.787675e+06</td>\n",
       "      <td>2.920822e+07</td>\n",
       "      <td>4.833452e+07</td>\n",
       "    </tr>\n",
       "    <tr>\n",
       "      <th>50%</th>\n",
       "      <td>1605.509949</td>\n",
       "      <td>42.464657</td>\n",
       "      <td>61.931894</td>\n",
       "      <td>283.789322</td>\n",
       "      <td>328.345978</td>\n",
       "      <td>290.364700</td>\n",
       "      <td>154.212608</td>\n",
       "      <td>43.995289</td>\n",
       "      <td>124.728809</td>\n",
       "      <td>95.929260</td>\n",
       "      <td>...</td>\n",
       "      <td>3.994000e+06</td>\n",
       "      <td>1.143355e+07</td>\n",
       "      <td>6.154600e+06</td>\n",
       "      <td>159900.000000</td>\n",
       "      <td>5.608000e+05</td>\n",
       "      <td>1.100270e+07</td>\n",
       "      <td>5.673750e+06</td>\n",
       "      <td>3.350950e+06</td>\n",
       "      <td>3.646005e+07</td>\n",
       "      <td>6.108385e+07</td>\n",
       "    </tr>\n",
       "    <tr>\n",
       "      <th>75%</th>\n",
       "      <td>1787.742462</td>\n",
       "      <td>49.862494</td>\n",
       "      <td>69.463469</td>\n",
       "      <td>313.493324</td>\n",
       "      <td>349.194206</td>\n",
       "      <td>319.638390</td>\n",
       "      <td>179.230991</td>\n",
       "      <td>47.988181</td>\n",
       "      <td>129.093002</td>\n",
       "      <td>105.062201</td>\n",
       "      <td>...</td>\n",
       "      <td>5.032150e+06</td>\n",
       "      <td>1.389162e+07</td>\n",
       "      <td>7.638450e+06</td>\n",
       "      <td>225600.000000</td>\n",
       "      <td>7.778500e+05</td>\n",
       "      <td>1.386132e+07</td>\n",
       "      <td>6.988375e+06</td>\n",
       "      <td>4.270350e+06</td>\n",
       "      <td>4.591962e+07</td>\n",
       "      <td>7.962260e+07</td>\n",
       "    </tr>\n",
       "    <tr>\n",
       "      <th>max</th>\n",
       "      <td>2039.510010</td>\n",
       "      <td>72.443558</td>\n",
       "      <td>77.370743</td>\n",
       "      <td>371.038513</td>\n",
       "      <td>430.299988</td>\n",
       "      <td>379.252228</td>\n",
       "      <td>210.838211</td>\n",
       "      <td>57.538074</td>\n",
       "      <td>147.749786</td>\n",
       "      <td>124.814484</td>\n",
       "      <td>...</td>\n",
       "      <td>2.755970e+07</td>\n",
       "      <td>5.890540e+07</td>\n",
       "      <td>5.814020e+07</td>\n",
       "      <td>952800.000000</td>\n",
       "      <td>2.567300e+06</td>\n",
       "      <td>4.728730e+07</td>\n",
       "      <td>4.269370e+07</td>\n",
       "      <td>1.181810e+07</td>\n",
       "      <td>1.561367e+08</td>\n",
       "      <td>2.595458e+08</td>\n",
       "    </tr>\n",
       "  </tbody>\n",
       "</table>\n",
       "<p>8 rows × 144 columns</p>\n",
       "</div>"
      ],
      "text/plain": [
       "Attributes    Adj Close                                                  \\\n",
       "Symbols            AMZN        AAPL         WBA         NOC          BA   \n",
       "count        754.000000  754.000000  754.000000  754.000000  754.000000   \n",
       "mean        1466.788952   44.180329   61.659956  284.476826  297.983058   \n",
       "std          384.674691    8.835500    8.498216   39.969458   73.810424   \n",
       "min          753.669983   27.341724   45.155109  211.275208  145.533676   \n",
       "25%         1003.184998   37.489974   55.570701  252.037868  242.664055   \n",
       "50%         1605.509949   42.464657   61.931894  283.789322  328.345978   \n",
       "75%         1787.742462   49.862494   69.463469  313.493324  349.194206   \n",
       "max         2039.510010   72.443558   77.370743  371.038513  430.299988   \n",
       "\n",
       "Attributes                                                              ...  \\\n",
       "Symbols            LMT         MCD        INTC         IBM         TXN  ...   \n",
       "count       754.000000  754.000000  754.000000  754.000000  754.000000  ...   \n",
       "mean        295.642103  159.415091   42.677547  125.054425   94.022884  ...   \n",
       "std          39.885969   25.757203    7.260914    9.124504   16.071237  ...   \n",
       "min         223.404129  106.971786   30.091368   94.098885   64.393265  ...   \n",
       "25%         272.276665  144.567299   35.407139  121.258448   80.717577  ...   \n",
       "50%         290.364700  154.212608   43.995289  124.728809   95.929260  ...   \n",
       "75%         319.638390  179.230991   47.988181  129.093002  105.062201  ...   \n",
       "max         379.252228  210.838211   57.538074  147.749786  124.814484  ...   \n",
       "\n",
       "Attributes        Volume                                             \\\n",
       "Symbols              PEP            KO           JNJ             TM   \n",
       "count       7.540000e+02  7.540000e+02  7.540000e+02     754.000000   \n",
       "mean        4.351399e+06  1.225216e+07  6.871945e+06  183997.480106   \n",
       "std         1.829997e+06  4.972239e+06  3.507888e+06   92199.241968   \n",
       "min         1.183000e+06  2.996300e+06  2.469500e+06   48400.000000   \n",
       "25%         3.232025e+06  9.230625e+06  5.101400e+06  119450.000000   \n",
       "50%         3.994000e+06  1.143355e+07  6.154600e+06  159900.000000   \n",
       "75%         5.032150e+06  1.389162e+07  7.638450e+06  225600.000000   \n",
       "max         2.755970e+07  5.890540e+07  5.814020e+07  952800.000000   \n",
       "\n",
       "Attributes                                                          \\\n",
       "Symbols              HMC           XOM           CVX           VLO   \n",
       "count       7.540000e+02  7.540000e+02  7.540000e+02  7.540000e+02   \n",
       "mean        6.552447e+05  1.206828e+07  6.197533e+06  3.656515e+06   \n",
       "std         3.372088e+05  4.559755e+06  2.637833e+06  1.337282e+06   \n",
       "min         1.576000e+05  3.851300e+06  1.640100e+06  5.598000e+05   \n",
       "25%         4.165250e+05  9.219000e+06  4.684350e+06  2.787675e+06   \n",
       "50%         5.608000e+05  1.100270e+07  5.673750e+06  3.350950e+06   \n",
       "75%         7.778500e+05  1.386132e+07  6.988375e+06  4.270350e+06   \n",
       "max         2.567300e+06  4.728730e+07  4.269370e+07  1.181810e+07   \n",
       "\n",
       "Attributes                              \n",
       "Symbols                F           BAC  \n",
       "count       7.540000e+02  7.540000e+02  \n",
       "mean        3.985812e+07  6.698125e+07  \n",
       "std         1.626750e+07  2.680503e+07  \n",
       "min         9.549600e+06  1.380540e+07  \n",
       "25%         2.920822e+07  4.833452e+07  \n",
       "50%         3.646005e+07  6.108385e+07  \n",
       "75%         4.591962e+07  7.962260e+07  \n",
       "max         1.561367e+08  2.595458e+08  \n",
       "\n",
       "[8 rows x 144 columns]"
      ]
     },
     "execution_count": 21,
     "metadata": {},
     "output_type": "execute_result"
    }
   ],
   "source": [
    "stock_data.describe()"
   ]
  },
  {
   "cell_type": "markdown",
   "metadata": {},
   "source": [
    "We can see that the scales are varying so we have to normalize the data first. We will create a pipeline that will normalize the data and then apply KMeans Clustering to it."
   ]
  },
  {
   "cell_type": "code",
   "execution_count": 22,
   "metadata": {},
   "outputs": [],
   "source": [
    "from sklearn.preprocessing import Normalizer\n",
    "from sklearn.pipeline import Pipeline\n",
    "from sklearn.cluster import KMeans"
   ]
  },
  {
   "cell_type": "markdown",
   "metadata": {},
   "source": [
    "(OPTIONAL STEP):"
   ]
  },
  {
   "cell_type": "code",
   "execution_count": 37,
   "metadata": {},
   "outputs": [
    {
     "data": {
      "text/plain": [
       "Text(0, 0.5, 'Inertia')"
      ]
     },
     "execution_count": 37,
     "metadata": {},
     "output_type": "execute_result"
    },
    {
     "data": {
      "image/png": "[encoded data removed]",
      "text/plain": [
       "<Figure size 576x432 with 1 Axes>"
      ]
     },
     "metadata": {
      "needs_background": "light"
     },
     "output_type": "display_data"
    }
   ],
   "source": [
    "#Let's get an idea about how many clusters we need first.\n",
    "#fitting multiple k-means algorithms and storing the values in an empty list\n",
    "Inertia = []\n",
    "for cluster in range(1,10):\n",
    "    pipe = Pipeline([('normalizer',Normalizer()),('kmeans',KMeans(n_clusters=cluster ,max_iter=1000,init ='k-means++'))])\n",
    "    pipe.fit(movements)\n",
    "    Inertia.append(pipe.named_steps['kmeans'].inertia_)\n",
    "\n",
    "# converting the results into a dataframe and plotting them\n",
    "frame = pd.DataFrame({'Cluster':range(1,10), 'Inertia':Inertia})\n",
    "plt.figure(figsize=(8,6))\n",
    "plt.plot(frame['Cluster'], frame['Inertia'], marker='o')\n",
    "plt.title('Elbow Method')\n",
    "plt.xlabel('Number of clusters')\n",
    "plt.ylabel('Inertia')"
   ]
  },
  {
   "cell_type": "code",
   "execution_count": 38,
   "metadata": {},
   "outputs": [],
   "source": [
    "#creating pipeline\n",
    "\n",
    "pipe = Pipeline([('normalizer',Normalizer()),('kmeans',KMeans(n_clusters=8,max_iter=1000,init='k-means++'))])"
   ]
  },
  {
   "cell_type": "code",
   "execution_count": 39,
   "metadata": {},
   "outputs": [
    {
     "data": {
      "text/plain": [
       "Pipeline(steps=[('normalizer', Normalizer()),\n",
       "                ('kmeans', KMeans(max_iter=1000))])"
      ]
     },
     "execution_count": 39,
     "metadata": {},
     "output_type": "execute_result"
    }
   ],
   "source": [
    "#fit pipeline to movements:\n",
    "\n",
    "pipe.fit(movements)"
   ]
  },
  {
   "cell_type": "code",
   "execution_count": 40,
   "metadata": {},
   "outputs": [
    {
     "data": {
      "text/plain": [
       "array([3, 3, 7, 6, 6, 6, 0, 3, 1, 3, 3, 3, 5, 2, 0, 0, 0, 2, 2, 4, 4, 4,\n",
       "       2, 2])"
      ]
     },
     "execution_count": 40,
     "metadata": {},
     "output_type": "execute_result"
    }
   ],
   "source": [
    "labels = pipe.predict(movements)\n",
    "labels"
   ]
  },
  {
   "cell_type": "code",
   "execution_count": 41,
   "metadata": {},
   "outputs": [
    {
     "data": {
      "text/plain": [
       "7.199791697404524"
      ]
     },
     "execution_count": 41,
     "metadata": {},
     "output_type": "execute_result"
    }
   ],
   "source": [
    "pipe.named_steps['kmeans'].inertia_"
   ]
  },
  {
   "cell_type": "markdown",
   "metadata": {},
   "source": [
    "**Intertia is a score of how close each cluster is, so a lower inertia score is better. In this case, we get a score of 7.1.**"
   ]
  },
  {
   "cell_type": "code",
   "execution_count": 42,
   "metadata": {},
   "outputs": [
    {
     "data": {
      "text/plain": [
       "array([[-0.00789438, -0.00435165,  0.01257585, ...,  0.0164862 ,\n",
       "        -0.00418499,  0.01410118],\n",
       "       [ 0.00512581,  0.04019637, -0.01483777, ...,  0.00728407,\n",
       "        -0.06447647,  0.04073604],\n",
       "       [ 0.03314093,  0.06218401, -0.03944667, ..., -0.03119202,\n",
       "        -0.03197003,  0.01062445],\n",
       "       ...,\n",
       "       [ 0.00295727, -0.00739347, -0.00739376, ...,  0.00153789,\n",
       "         0.00153789,  0.02460558],\n",
       "       [ 0.0113591 ,  0.001734  ,  0.00866645, ..., -0.00778435,\n",
       "        -0.01233426, -0.02035585],\n",
       "       [-0.00574677, -0.01313553,  0.04227997, ...,  0.00410495,\n",
       "        -0.00738875,  0.00574677]])"
      ]
     },
     "execution_count": 42,
     "metadata": {},
     "output_type": "execute_result"
    }
   ],
   "source": [
    "pipe.named_steps['kmeans'].cluster_centers_"
   ]
  },
  {
   "cell_type": "code",
   "execution_count": 43,
   "metadata": {},
   "outputs": [
    {
     "data": {
      "text/html": [
       "<div>\n",
       "<style scoped>\n",
       "    .dataframe tbody tr th:only-of-type {\n",
       "        vertical-align: middle;\n",
       "    }\n",
       "\n",
       "    .dataframe tbody tr th {\n",
       "        vertical-align: top;\n",
       "    }\n",
       "\n",
       "    .dataframe thead th {\n",
       "        text-align: right;\n",
       "    }\n",
       "</style>\n",
       "<table border=\"1\" class=\"dataframe\">\n",
       "  <thead>\n",
       "    <tr style=\"text-align: right;\">\n",
       "      <th></th>\n",
       "      <th>labels</th>\n",
       "      <th>companies</th>\n",
       "    </tr>\n",
       "  </thead>\n",
       "  <tbody>\n",
       "    <tr>\n",
       "      <th>16</th>\n",
       "      <td>0</td>\n",
       "      <td>(Microsoft, MSFT)</td>\n",
       "    </tr>\n",
       "    <tr>\n",
       "      <th>15</th>\n",
       "      <td>0</td>\n",
       "      <td>(McDonalds, MCD)</td>\n",
       "    </tr>\n",
       "    <tr>\n",
       "      <th>14</th>\n",
       "      <td>0</td>\n",
       "      <td>(MasterCard, MA)</td>\n",
       "    </tr>\n",
       "    <tr>\n",
       "      <th>6</th>\n",
       "      <td>0</td>\n",
       "      <td>(Ford, F)</td>\n",
       "    </tr>\n",
       "    <tr>\n",
       "      <th>8</th>\n",
       "      <td>1</td>\n",
       "      <td>(Honda, HMC)</td>\n",
       "    </tr>\n",
       "    <tr>\n",
       "      <th>23</th>\n",
       "      <td>2</td>\n",
       "      <td>(Exxon, XOM)</td>\n",
       "    </tr>\n",
       "    <tr>\n",
       "      <th>18</th>\n",
       "      <td>2</td>\n",
       "      <td>(Pepsi, PEP)</td>\n",
       "    </tr>\n",
       "    <tr>\n",
       "      <th>17</th>\n",
       "      <td>2</td>\n",
       "      <td>(Northrop Grumman, NOC)</td>\n",
       "    </tr>\n",
       "    <tr>\n",
       "      <th>13</th>\n",
       "      <td>2</td>\n",
       "      <td>(Lockheed Martin, LMT)</td>\n",
       "    </tr>\n",
       "    <tr>\n",
       "      <th>22</th>\n",
       "      <td>2</td>\n",
       "      <td>(Walgreen, WBA)</td>\n",
       "    </tr>\n",
       "    <tr>\n",
       "      <th>0</th>\n",
       "      <td>3</td>\n",
       "      <td>(Apple, AAPL)</td>\n",
       "    </tr>\n",
       "    <tr>\n",
       "      <th>9</th>\n",
       "      <td>3</td>\n",
       "      <td>(IBM, IBM)</td>\n",
       "    </tr>\n",
       "    <tr>\n",
       "      <th>7</th>\n",
       "      <td>3</td>\n",
       "      <td>(General Electrics, GE)</td>\n",
       "    </tr>\n",
       "    <tr>\n",
       "      <th>1</th>\n",
       "      <td>3</td>\n",
       "      <td>(Amazon, AMZN)</td>\n",
       "    </tr>\n",
       "    <tr>\n",
       "      <th>10</th>\n",
       "      <td>3</td>\n",
       "      <td>(Intel, INTC)</td>\n",
       "    </tr>\n",
       "    <tr>\n",
       "      <th>11</th>\n",
       "      <td>3</td>\n",
       "      <td>(Johnson &amp; Johnson, JNJ)</td>\n",
       "    </tr>\n",
       "    <tr>\n",
       "      <th>19</th>\n",
       "      <td>4</td>\n",
       "      <td>(Toyota, TM)</td>\n",
       "    </tr>\n",
       "    <tr>\n",
       "      <th>20</th>\n",
       "      <td>4</td>\n",
       "      <td>(Texas Instruments, TXN)</td>\n",
       "    </tr>\n",
       "    <tr>\n",
       "      <th>21</th>\n",
       "      <td>4</td>\n",
       "      <td>(Valero Energy, VLO)</td>\n",
       "    </tr>\n",
       "    <tr>\n",
       "      <th>12</th>\n",
       "      <td>5</td>\n",
       "      <td>(Coca Cola, KO)</td>\n",
       "    </tr>\n",
       "    <tr>\n",
       "      <th>5</th>\n",
       "      <td>6</td>\n",
       "      <td>(Chevron, CVX)</td>\n",
       "    </tr>\n",
       "    <tr>\n",
       "      <th>4</th>\n",
       "      <td>6</td>\n",
       "      <td>(Bank of America, BAC)</td>\n",
       "    </tr>\n",
       "    <tr>\n",
       "      <th>3</th>\n",
       "      <td>6</td>\n",
       "      <td>(Boeing, BA)</td>\n",
       "    </tr>\n",
       "    <tr>\n",
       "      <th>2</th>\n",
       "      <td>7</td>\n",
       "      <td>(American Express, AXP)</td>\n",
       "    </tr>\n",
       "  </tbody>\n",
       "</table>\n",
       "</div>"
      ],
      "text/plain": [
       "    labels                 companies\n",
       "16       0         (Microsoft, MSFT)\n",
       "15       0          (McDonalds, MCD)\n",
       "14       0          (MasterCard, MA)\n",
       "6        0                 (Ford, F)\n",
       "8        1              (Honda, HMC)\n",
       "23       2              (Exxon, XOM)\n",
       "18       2              (Pepsi, PEP)\n",
       "17       2   (Northrop Grumman, NOC)\n",
       "13       2    (Lockheed Martin, LMT)\n",
       "22       2           (Walgreen, WBA)\n",
       "0        3             (Apple, AAPL)\n",
       "9        3                (IBM, IBM)\n",
       "7        3   (General Electrics, GE)\n",
       "1        3            (Amazon, AMZN)\n",
       "10       3             (Intel, INTC)\n",
       "11       3  (Johnson & Johnson, JNJ)\n",
       "19       4              (Toyota, TM)\n",
       "20       4  (Texas Instruments, TXN)\n",
       "21       4      (Valero Energy, VLO)\n",
       "12       5           (Coca Cola, KO)\n",
       "5        6            (Chevron, CVX)\n",
       "4        6    (Bank of America, BAC)\n",
       "3        6              (Boeing, BA)\n",
       "2        7   (American Express, AXP)"
      ]
     },
     "execution_count": 43,
     "metadata": {},
     "output_type": "execute_result"
    }
   ],
   "source": [
    "# Create a DataFrame aligning labels and companies: \n",
    "\n",
    "df = pd.DataFrame({'labels':labels,'companies':list(companies)}).sort_values(by=['labels'],axis = 0)\n",
    "df\n"
   ]
  },
  {
   "cell_type": "markdown",
   "metadata": {},
   "source": [
    "We can see that the model has assigned cluster numbers to different companies based on how similar their stock movemnets were."
   ]
  },
  {
   "cell_type": "markdown",
   "metadata": {},
   "source": [
    "If the pipeline is run again, we get different cluster formation results as the beginning step of initialization of centroids is random in K-Means clustering."
   ]
  },
  {
   "cell_type": "markdown",
   "metadata": {},
   "source": [
    "### Principle Component Analysis"
   ]
  },
  {
   "cell_type": "markdown",
   "metadata": {},
   "source": [
    "Dimensionality Reduction is simply reducing the number of features (columns) while retaining maximum information. Following are reasons for Dimensionality Reduction:\n",
    "- Dimensionality Reduction helps in data compression, and hence reduced storage space.\n",
    "- It reduces computation time.\n",
    "- It also helps remove redundant features, if any.\n",
    "- Removes Correlated Features.\n",
    "- Reducing the dimensions of data to 2D or 3D may allow us to plot and visualize it precisely. You can then observe patterns more clearly.\n",
    "\n",
    "In PCA, we find new dimensions (features) that capture maximum variance (i.e. information). It doesn’t eliminate features but instead forms new features from existing ones with lower dimensions."
   ]
  },
  {
   "cell_type": "markdown",
   "metadata": {},
   "source": [
    "The given data has 144 columns. Using PCA it is reduced to a 2 dimensional data with 2 features and then k-means clustering is applied. This way we can plot the clustered companies on a two dimensional graph."
   ]
  },
  {
   "cell_type": "code",
   "execution_count": 44,
   "metadata": {},
   "outputs": [],
   "source": [
    "from sklearn.decomposition import PCA"
   ]
  },
  {
   "cell_type": "code",
   "execution_count": 45,
   "metadata": {},
   "outputs": [],
   "source": [
    "# Define a normalizer\n",
    "norm = Normalizer()\n",
    "normalized_mov = norm.fit_transform(movements)\n",
    "\n",
    "# Reduce the data\n",
    "pca_check = PCA()\n",
    "reduced_data_check= pca_check.fit_transform(normalized_mov)\n"
   ]
  },
  {
   "cell_type": "code",
   "execution_count": 47,
   "metadata": {},
   "outputs": [
    {
     "data": {
      "text/html": [
       "<div>\n",
       "<style scoped>\n",
       "    .dataframe tbody tr th:only-of-type {\n",
       "        vertical-align: middle;\n",
       "    }\n",
       "\n",
       "    .dataframe tbody tr th {\n",
       "        vertical-align: top;\n",
       "    }\n",
       "\n",
       "    .dataframe thead th {\n",
       "        text-align: right;\n",
       "    }\n",
       "</style>\n",
       "<table border=\"1\" class=\"dataframe\">\n",
       "  <thead>\n",
       "    <tr style=\"text-align: right;\">\n",
       "      <th></th>\n",
       "      <th>0</th>\n",
       "      <th>1</th>\n",
       "      <th>2</th>\n",
       "      <th>3</th>\n",
       "      <th>4</th>\n",
       "      <th>5</th>\n",
       "      <th>6</th>\n",
       "      <th>7</th>\n",
       "      <th>8</th>\n",
       "      <th>9</th>\n",
       "      <th>...</th>\n",
       "      <th>14</th>\n",
       "      <th>15</th>\n",
       "      <th>16</th>\n",
       "      <th>17</th>\n",
       "      <th>18</th>\n",
       "      <th>19</th>\n",
       "      <th>20</th>\n",
       "      <th>21</th>\n",
       "      <th>22</th>\n",
       "      <th>23</th>\n",
       "    </tr>\n",
       "  </thead>\n",
       "  <tbody>\n",
       "    <tr>\n",
       "      <th>0</th>\n",
       "      <td>-0.417239</td>\n",
       "      <td>-0.265436</td>\n",
       "      <td>-0.162057</td>\n",
       "      <td>0.078182</td>\n",
       "      <td>0.123562</td>\n",
       "      <td>-0.002168</td>\n",
       "      <td>0.074532</td>\n",
       "      <td>-0.025698</td>\n",
       "      <td>-0.032064</td>\n",
       "      <td>0.053110</td>\n",
       "      <td>...</td>\n",
       "      <td>-0.032075</td>\n",
       "      <td>-0.123647</td>\n",
       "      <td>-0.117985</td>\n",
       "      <td>0.036966</td>\n",
       "      <td>0.008120</td>\n",
       "      <td>0.358670</td>\n",
       "      <td>-0.093885</td>\n",
       "      <td>-0.007838</td>\n",
       "      <td>-0.063142</td>\n",
       "      <td>9.721962e-17</td>\n",
       "    </tr>\n",
       "    <tr>\n",
       "      <th>1</th>\n",
       "      <td>-0.313948</td>\n",
       "      <td>-0.182379</td>\n",
       "      <td>-0.247862</td>\n",
       "      <td>0.033870</td>\n",
       "      <td>0.160893</td>\n",
       "      <td>0.024594</td>\n",
       "      <td>0.061500</td>\n",
       "      <td>0.027811</td>\n",
       "      <td>-0.056182</td>\n",
       "      <td>0.060583</td>\n",
       "      <td>...</td>\n",
       "      <td>0.353638</td>\n",
       "      <td>0.044913</td>\n",
       "      <td>0.173295</td>\n",
       "      <td>-0.041311</td>\n",
       "      <td>-0.092149</td>\n",
       "      <td>-0.117934</td>\n",
       "      <td>-0.050015</td>\n",
       "      <td>-0.013034</td>\n",
       "      <td>0.002120</td>\n",
       "      <td>9.721962e-17</td>\n",
       "    </tr>\n",
       "    <tr>\n",
       "      <th>2</th>\n",
       "      <td>0.103403</td>\n",
       "      <td>0.218547</td>\n",
       "      <td>-0.133409</td>\n",
       "      <td>-0.195763</td>\n",
       "      <td>0.321368</td>\n",
       "      <td>0.508090</td>\n",
       "      <td>0.333837</td>\n",
       "      <td>0.210866</td>\n",
       "      <td>0.313591</td>\n",
       "      <td>-0.021540</td>\n",
       "      <td>...</td>\n",
       "      <td>-0.089350</td>\n",
       "      <td>0.065196</td>\n",
       "      <td>-0.007347</td>\n",
       "      <td>-0.019621</td>\n",
       "      <td>-0.006830</td>\n",
       "      <td>-0.006278</td>\n",
       "      <td>-0.022398</td>\n",
       "      <td>-0.000124</td>\n",
       "      <td>-0.012786</td>\n",
       "      <td>9.721962e-17</td>\n",
       "    </tr>\n",
       "    <tr>\n",
       "      <th>3</th>\n",
       "      <td>0.064716</td>\n",
       "      <td>-0.346534</td>\n",
       "      <td>0.658481</td>\n",
       "      <td>-0.093844</td>\n",
       "      <td>0.019706</td>\n",
       "      <td>-0.001941</td>\n",
       "      <td>-0.058742</td>\n",
       "      <td>0.031996</td>\n",
       "      <td>0.103222</td>\n",
       "      <td>-0.096436</td>\n",
       "      <td>...</td>\n",
       "      <td>-0.024427</td>\n",
       "      <td>0.035477</td>\n",
       "      <td>-0.031846</td>\n",
       "      <td>0.021176</td>\n",
       "      <td>0.006376</td>\n",
       "      <td>0.001326</td>\n",
       "      <td>-0.058138</td>\n",
       "      <td>-0.255169</td>\n",
       "      <td>0.035212</td>\n",
       "      <td>9.721962e-17</td>\n",
       "    </tr>\n",
       "    <tr>\n",
       "      <th>4</th>\n",
       "      <td>-0.115495</td>\n",
       "      <td>-0.108303</td>\n",
       "      <td>0.341962</td>\n",
       "      <td>-0.036194</td>\n",
       "      <td>0.007156</td>\n",
       "      <td>0.279338</td>\n",
       "      <td>-0.062760</td>\n",
       "      <td>-0.089008</td>\n",
       "      <td>-0.228102</td>\n",
       "      <td>0.256731</td>\n",
       "      <td>...</td>\n",
       "      <td>0.073252</td>\n",
       "      <td>-0.008816</td>\n",
       "      <td>0.061207</td>\n",
       "      <td>-0.046459</td>\n",
       "      <td>0.055502</td>\n",
       "      <td>-0.035609</td>\n",
       "      <td>0.016785</td>\n",
       "      <td>-0.042161</td>\n",
       "      <td>0.017548</td>\n",
       "      <td>9.721962e-17</td>\n",
       "    </tr>\n",
       "  </tbody>\n",
       "</table>\n",
       "<p>5 rows × 24 columns</p>\n",
       "</div>"
      ],
      "text/plain": [
       "         0         1         2         3         4         5         6   \\\n",
       "0 -0.417239 -0.265436 -0.162057  0.078182  0.123562 -0.002168  0.074532   \n",
       "1 -0.313948 -0.182379 -0.247862  0.033870  0.160893  0.024594  0.061500   \n",
       "2  0.103403  0.218547 -0.133409 -0.195763  0.321368  0.508090  0.333837   \n",
       "3  0.064716 -0.346534  0.658481 -0.093844  0.019706 -0.001941 -0.058742   \n",
       "4 -0.115495 -0.108303  0.341962 -0.036194  0.007156  0.279338 -0.062760   \n",
       "\n",
       "         7         8         9   ...        14        15        16        17  \\\n",
       "0 -0.025698 -0.032064  0.053110  ... -0.032075 -0.123647 -0.117985  0.036966   \n",
       "1  0.027811 -0.056182  0.060583  ...  0.353638  0.044913  0.173295 -0.041311   \n",
       "2  0.210866  0.313591 -0.021540  ... -0.089350  0.065196 -0.007347 -0.019621   \n",
       "3  0.031996  0.103222 -0.096436  ... -0.024427  0.035477 -0.031846  0.021176   \n",
       "4 -0.089008 -0.228102  0.256731  ...  0.073252 -0.008816  0.061207 -0.046459   \n",
       "\n",
       "         18        19        20        21        22            23  \n",
       "0  0.008120  0.358670 -0.093885 -0.007838 -0.063142  9.721962e-17  \n",
       "1 -0.092149 -0.117934 -0.050015 -0.013034  0.002120  9.721962e-17  \n",
       "2 -0.006830 -0.006278 -0.022398 -0.000124 -0.012786  9.721962e-17  \n",
       "3  0.006376  0.001326 -0.058138 -0.255169  0.035212  9.721962e-17  \n",
       "4  0.055502 -0.035609  0.016785 -0.042161  0.017548  9.721962e-17  \n",
       "\n",
       "[5 rows x 24 columns]"
      ]
     },
     "execution_count": 47,
     "metadata": {},
     "output_type": "execute_result"
    }
   ],
   "source": [
    "df_pca_check=pd.DataFrame(reduced_data_check)\n",
    "df_pca_check.head()"
   ]
  },
  {
   "cell_type": "markdown",
   "metadata": {},
   "source": [
    "Since we had not specified the n_components the first time, 23 components were created. \n",
    "\n",
    "Now what is more interesting is to see which component captures the most variance.\n",
    "This is done below:"
   ]
  },
  {
   "cell_type": "code",
   "execution_count": 48,
   "metadata": {},
   "outputs": [
    {
     "data": {
      "text/plain": [
       "Text(0, 0.5, 'Explained Varience')"
      ]
     },
     "execution_count": 48,
     "metadata": {},
     "output_type": "execute_result"
    },
    {
     "data": {
      "image/png": "[encoded data removed]",
      "text/plain": [
       "<Figure size 432x288 with 1 Axes>"
      ]
     },
     "metadata": {
      "needs_background": "light"
     },
     "output_type": "display_data"
    }
   ],
   "source": [
    "pd.DataFrame(pca_check.explained_variance_ratio_).plot.bar()\n",
    "plt.legend('')\n",
    "plt.xlabel('Principal Components')\n",
    "plt.ylabel('Explained Varience')"
   ]
  },
  {
   "cell_type": "markdown",
   "metadata": {},
   "source": [
    "**The first two components capture the maximum variance. Therfore taking n_components=2 this time.**"
   ]
  },
  {
   "cell_type": "code",
   "execution_count": 50,
   "metadata": {},
   "outputs": [],
   "source": [
    "# Define a normalizer\n",
    "norm = Normalizer()\n",
    "normalized_mov = norm.fit_transform(movements)\n",
    "\n",
    "# Reduce the data\n",
    "pca= PCA(n_components=2)\n",
    "reduced_data= pca.fit_transform(normalized_mov)\n",
    "\n",
    "# Create Kmeans model\n",
    "kmeans = KMeans(n_clusters = 8,max_iter = 1000,init='k-means++')"
   ]
  },
  {
   "cell_type": "code",
   "execution_count": 51,
   "metadata": {},
   "outputs": [
    {
     "data": {
      "text/plain": [
       "KMeans(max_iter=1000)"
      ]
     },
     "execution_count": 51,
     "metadata": {},
     "output_type": "execute_result"
    }
   ],
   "source": [
    "# Fit the model to reduced data\n",
    "kmeans.fit(reduced_data)"
   ]
  },
  {
   "cell_type": "code",
   "execution_count": 52,
   "metadata": {},
   "outputs": [
    {
     "data": {
      "text/plain": [
       "array([2, 2, 7, 4, 6, 4, 1, 6, 7, 6, 2, 2, 3, 6, 5, 5, 1, 0, 0, 3, 3, 0,\n",
       "       3, 0])"
      ]
     },
     "execution_count": 52,
     "metadata": {},
     "output_type": "execute_result"
    }
   ],
   "source": [
    "# Prediction\n",
    "labels = kmeans.predict(reduced_data)\n",
    "labels"
   ]
  },
  {
   "cell_type": "code",
   "execution_count": 53,
   "metadata": {},
   "outputs": [
    {
     "data": {
      "text/html": [
       "<div>\n",
       "<style scoped>\n",
       "    .dataframe tbody tr th:only-of-type {\n",
       "        vertical-align: middle;\n",
       "    }\n",
       "\n",
       "    .dataframe tbody tr th {\n",
       "        vertical-align: top;\n",
       "    }\n",
       "\n",
       "    .dataframe thead th {\n",
       "        text-align: right;\n",
       "    }\n",
       "</style>\n",
       "<table border=\"1\" class=\"dataframe\">\n",
       "  <thead>\n",
       "    <tr style=\"text-align: right;\">\n",
       "      <th></th>\n",
       "      <th>labels</th>\n",
       "      <th>companies</th>\n",
       "    </tr>\n",
       "  </thead>\n",
       "  <tbody>\n",
       "    <tr>\n",
       "      <th>23</th>\n",
       "      <td>0</td>\n",
       "      <td>Bank of America</td>\n",
       "    </tr>\n",
       "    <tr>\n",
       "      <th>21</th>\n",
       "      <td>0</td>\n",
       "      <td>Valero Energy</td>\n",
       "    </tr>\n",
       "    <tr>\n",
       "      <th>18</th>\n",
       "      <td>0</td>\n",
       "      <td>Honda</td>\n",
       "    </tr>\n",
       "    <tr>\n",
       "      <th>17</th>\n",
       "      <td>0</td>\n",
       "      <td>Toyota</td>\n",
       "    </tr>\n",
       "    <tr>\n",
       "      <th>16</th>\n",
       "      <td>1</td>\n",
       "      <td>Johnson &amp; Johnson</td>\n",
       "    </tr>\n",
       "    <tr>\n",
       "      <th>6</th>\n",
       "      <td>1</td>\n",
       "      <td>McDonalds</td>\n",
       "    </tr>\n",
       "    <tr>\n",
       "      <th>10</th>\n",
       "      <td>2</td>\n",
       "      <td>MasterCard</td>\n",
       "    </tr>\n",
       "    <tr>\n",
       "      <th>0</th>\n",
       "      <td>2</td>\n",
       "      <td>Amazon</td>\n",
       "    </tr>\n",
       "    <tr>\n",
       "      <th>1</th>\n",
       "      <td>2</td>\n",
       "      <td>Apple</td>\n",
       "    </tr>\n",
       "    <tr>\n",
       "      <th>11</th>\n",
       "      <td>2</td>\n",
       "      <td>Microsoft</td>\n",
       "    </tr>\n",
       "    <tr>\n",
       "      <th>22</th>\n",
       "      <td>3</td>\n",
       "      <td>Ford</td>\n",
       "    </tr>\n",
       "    <tr>\n",
       "      <th>12</th>\n",
       "      <td>3</td>\n",
       "      <td>General Electrics</td>\n",
       "    </tr>\n",
       "    <tr>\n",
       "      <th>19</th>\n",
       "      <td>3</td>\n",
       "      <td>Exxon</td>\n",
       "    </tr>\n",
       "    <tr>\n",
       "      <th>20</th>\n",
       "      <td>3</td>\n",
       "      <td>Chevron</td>\n",
       "    </tr>\n",
       "    <tr>\n",
       "      <th>5</th>\n",
       "      <td>4</td>\n",
       "      <td>Lockheed Martin</td>\n",
       "    </tr>\n",
       "    <tr>\n",
       "      <th>3</th>\n",
       "      <td>4</td>\n",
       "      <td>Northrop Grumman</td>\n",
       "    </tr>\n",
       "    <tr>\n",
       "      <th>14</th>\n",
       "      <td>5</td>\n",
       "      <td>Pepsi</td>\n",
       "    </tr>\n",
       "    <tr>\n",
       "      <th>15</th>\n",
       "      <td>5</td>\n",
       "      <td>Coca Cola</td>\n",
       "    </tr>\n",
       "    <tr>\n",
       "      <th>9</th>\n",
       "      <td>6</td>\n",
       "      <td>Texas Instruments</td>\n",
       "    </tr>\n",
       "    <tr>\n",
       "      <th>13</th>\n",
       "      <td>6</td>\n",
       "      <td>American Express</td>\n",
       "    </tr>\n",
       "    <tr>\n",
       "      <th>4</th>\n",
       "      <td>6</td>\n",
       "      <td>Boeing</td>\n",
       "    </tr>\n",
       "    <tr>\n",
       "      <th>7</th>\n",
       "      <td>6</td>\n",
       "      <td>Intel</td>\n",
       "    </tr>\n",
       "    <tr>\n",
       "      <th>8</th>\n",
       "      <td>7</td>\n",
       "      <td>IBM</td>\n",
       "    </tr>\n",
       "    <tr>\n",
       "      <th>2</th>\n",
       "      <td>7</td>\n",
       "      <td>Walgreen</td>\n",
       "    </tr>\n",
       "  </tbody>\n",
       "</table>\n",
       "</div>"
      ],
      "text/plain": [
       "    labels          companies\n",
       "23       0    Bank of America\n",
       "21       0      Valero Energy\n",
       "18       0              Honda\n",
       "17       0             Toyota\n",
       "16       1  Johnson & Johnson\n",
       "6        1          McDonalds\n",
       "10       2         MasterCard\n",
       "0        2             Amazon\n",
       "1        2              Apple\n",
       "11       2          Microsoft\n",
       "22       3               Ford\n",
       "12       3  General Electrics\n",
       "19       3              Exxon\n",
       "20       3            Chevron\n",
       "5        4    Lockheed Martin\n",
       "3        4   Northrop Grumman\n",
       "14       5              Pepsi\n",
       "15       5          Coca Cola\n",
       "9        6  Texas Instruments\n",
       "13       6   American Express\n",
       "4        6             Boeing\n",
       "7        6              Intel\n",
       "8        7                IBM\n",
       "2        7           Walgreen"
      ]
     },
     "execution_count": 53,
     "metadata": {},
     "output_type": "execute_result"
    }
   ],
   "source": [
    "# Create dataframe to store companies and predicted labels\n",
    "df1 = pd.DataFrame({'labels':labels,'companies':list(companies_dict.keys())}).sort_values(by=['labels'],axis = 0)\n",
    "df1"
   ]
  },
  {
   "cell_type": "markdown",
   "metadata": {},
   "source": [
    "The cluster formation with PCA reduction is different from the cluster formation without PCA reduction."
   ]
  },
  {
   "cell_type": "code",
   "execution_count": 54,
   "metadata": {},
   "outputs": [
    {
     "data": {
      "text/plain": [
       "<Figure size 432x288 with 0 Axes>"
      ]
     },
     "metadata": {},
     "output_type": "display_data"
    },
    {
     "data": {
      "image/png": "[encoded data removed]",
      "text/plain": [
       "<Figure size 576x576 with 1 Axes>"
      ]
     },
     "metadata": {
      "needs_background": "light"
     },
     "output_type": "display_data"
    }
   ],
   "source": [
    "#plotting:\n",
    "\n",
    "# Define step size of mesh\n",
    "h = 0.01\n",
    "\n",
    "# Plot the decision boundary\n",
    "x_min,x_max = reduced_data[:,0].min()-1, reduced_data[:,0].max() + 1\n",
    "y_min,y_max = reduced_data[:,1].min()-1, reduced_data[:,1].max() + 1\n",
    "xx,yy = np.meshgrid(np.arange(x_min,x_max,h),np.arange(y_min,y_max,h))\n",
    "\n",
    "# Obtain labels for each point in the mesh using our trained model\n",
    "Z = kmeans.predict(np.c_[xx.ravel(),yy.ravel()])\n",
    "\n",
    "# Put the result into a color plot\n",
    "Z = Z.reshape(xx.shape)\n",
    "\n",
    "# Define color plot\n",
    "cmap = plt.cm.Paired\n",
    "\n",
    "# Plotting figure\n",
    "plt.clf()\n",
    "plt.figure(figsize=(8,8))\n",
    "plt.imshow(Z,interpolation = 'nearest',extent=(xx.min(),xx.max(),yy.min(),yy.max()),cmap = cmap,aspect = 'auto',origin = 'lower')\n",
    "plt.plot(reduced_data[:,0],reduced_data[:,1],'k.',markersize = 5)\n",
    "\n",
    "# Plot the centroid of each cluster as a white X\n",
    "centroids = kmeans.cluster_centers_\n",
    "plt.scatter(centroids[:,0],centroids[:,1],marker = 'x',s = 169,linewidths = 3,color = 'w',zorder = 10)\n",
    "plt.title('K-Means clustering on stock market movements (PCA-Reduced data)')\n",
    "plt.xlim(x_min,x_max)\n",
    "plt.ylim(y_min,y_max)\n",
    "plt.show()"
   ]
  },
  {
   "cell_type": "markdown",
   "metadata": {},
   "source": [
    "Here we can see a meshgrid with 8 clusters and the centers of each cluster are plotted with a white X."
   ]
  },
  {
   "cell_type": "markdown",
   "metadata": {},
   "source": [
    "### Conclusion"
   ]
  },
  {
   "cell_type": "markdown",
   "metadata": {},
   "source": [
    "To summarize, in this project we looked at applying the k-means clustering algorithm, which is a popular unsupervised learning technique in order to group a set of companies.\n",
    "- We first imported the data using pandas-datareader and Yahoo Finance for 23 stocks for a 2 year period.\n",
    "- We then calculated each stock's daily price movement from the open and close values.\n",
    "- We then visualized the stock market movements and saw that we needed to normalize our data.\n",
    "- We then used the k-means clustering algorithm on our normalized data to predict the label of each company and assigned them to 8 different clusters.\n",
    "- Finally, we saw how we can reduce the dimensionality of our data to two dimensions with principal component analysis (PCA) and plot it based on the assigned clusters."
   ]
  }
 ],
 "metadata": {
  "kernelspec": {
   "display_name": "Python 3",
   "language": "python",
   "name": "python3"
  },
  "language_info": {
   "codemirror_mode": {
    "name": "ipython",
    "version": 3
   },
   "file_extension": ".py",
   "mimetype": "text/x-python",
   "name": "python",
   "nbconvert_exporter": "python",
   "pygments_lexer": "ipython3",
   "version": "3.8.5"
  }
 },
 "nbformat": 4,
 "nbformat_minor": 4
}
